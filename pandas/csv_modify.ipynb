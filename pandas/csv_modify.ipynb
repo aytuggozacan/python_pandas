{
 "cells": [
  {
   "cell_type": "code",
   "execution_count": 1,
   "id": "0603e884-1cb6-44dc-9901-cc9a02a16ea5",
   "metadata": {},
   "outputs": [],
   "source": [
    "import pandas as pd"
   ]
  },
  {
   "cell_type": "code",
   "execution_count": 2,
   "id": "e0246192-f3c3-4705-850a-6e06de0c897c",
   "metadata": {},
   "outputs": [],
   "source": [
    "df = pd.read_csv('data/survey_results_public.csv')"
   ]
  },
  {
   "cell_type": "code",
   "execution_count": 3,
   "id": "4d3745e8-da1e-4397-8a5f-0dd950dcd01f",
   "metadata": {},
   "outputs": [],
   "source": [
    "pd.set_option('display.max_columns', 85)\n",
    "pd.set_option('display.max_rows', 85)"
   ]
  },
  {
   "cell_type": "code",
   "execution_count": 4,
   "id": "6fa774ff-cbfc-42ca-84ea-06572272c2ea",
   "metadata": {},
   "outputs": [],
   "source": [
    "countries = [\"United States\", \"India\", \"United Kingdom\", \"Germany\", \"Canada\", \"Turkey\", \"Russian Federation\"]\n",
    "filt = (df[\"Country\"].isin(countries))"
   ]
  },
  {
   "cell_type": "code",
   "execution_count": 5,
   "id": "3d9c70b6-3fb9-45ba-8b55-6bd7b7e9500d",
   "metadata": {},
   "outputs": [],
   "source": [
    "df = df.loc[filt]"
   ]
  },
  {
   "cell_type": "code",
   "execution_count": 6,
   "id": "21d67a65-1a70-42c2-907d-50d40a3ef541",
   "metadata": {},
   "outputs": [],
   "source": [
    "df2 = df[[\"Respondent\", \"Hobbyist\", \"Country\", \"MgrIdiot\", \"ConvertedComp\", \"LanguageWorkedWith\", \"SocialMedia\", \"Age\", \"YearsCode\"]]"
   ]
  },
  {
   "cell_type": "code",
   "execution_count": 7,
   "id": "4a637f27-72e6-4497-820f-c7f5d8991949",
   "metadata": {},
   "outputs": [],
   "source": [
    "df2.to_csv(\"data/survey_data.csv\")"
   ]
  },
  {
   "cell_type": "code",
   "execution_count": null,
   "id": "fc8355a5-0de0-4bd1-b8c9-2e4fd07fbd6d",
   "metadata": {},
   "outputs": [],
   "source": []
  }
 ],
 "metadata": {
  "kernelspec": {
   "display_name": "Python 3 (ipykernel)",
   "language": "python",
   "name": "python3"
  },
  "language_info": {
   "codemirror_mode": {
    "name": "ipython",
    "version": 3
   },
   "file_extension": ".py",
   "mimetype": "text/x-python",
   "name": "python",
   "nbconvert_exporter": "python",
   "pygments_lexer": "ipython3",
   "version": "3.11.3"
  }
 },
 "nbformat": 4,
 "nbformat_minor": 5
}
